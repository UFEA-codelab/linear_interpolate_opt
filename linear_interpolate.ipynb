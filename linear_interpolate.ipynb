{
  "cells": [
    {
      "cell_type": "markdown",
      "metadata": {
        "id": "view-in-github",
        "colab_type": "text"
      },
      "source": [
        "<a href=\"https://colab.research.google.com/github/jaealways/linear_interpolate_opt/blob/main/linear_interpolate.ipynb\" target=\"_parent\"><img src=\"https://colab.research.google.com/assets/colab-badge.svg\" alt=\"Open In Colab\"/></a>"
      ]
    },
    {
      "cell_type": "code",
      "execution_count": null,
      "id": "fe668cd2",
      "metadata": {
        "id": "fe668cd2"
      },
      "outputs": [],
      "source": [
        "import pandas as pd\n",
        "import numpy as np\n",
        "import matplotlib.pyplot as plt\n",
        "from scipy.optimize import curve_fit\n",
        "from scipy.optimize import fsolve\n",
        "\n",
        "#2023-07-19\n",
        "\n",
        "T_i=[1/12, 2/12, 3/12, 4/12, 6/12, 1., 2., 3., 5., 7., 10., 20., 30.]\n",
        "r_i=[0.0537, 0.0551, 0.0549, 0.0554, 0.0551, 0.0532, 0.0474, 0.0434, 0.0398, 0.0387, 0.0375, 0.0401, 0.0384]\n",
        "c_i=[0, 0, 0, 0, 0, 0, 2.37, 2.17, 1.99, 1.935, 1.875, 2.005, 1.92]\n",
        "\n",
        "# object\n",
        "# 김현수 멋져용\n",
        "\n",
        "t_i=[1/12, 2/12, 3/12, 4/12, 6/12, 1., 1.5, 2., 2.5, 3., 3.5, 4., 4.5, 5., 5.5, 6., 6.5, 7., 7.5, 8., 8.5, 9., 9.5, 10.]\n",
        "y_i=[0.0551, 0.0532]"
      ]
    },
    {
      "cell_type": "code",
      "execution_count": null,
      "id": "f1cd3356",
      "metadata": {
        "id": "f1cd3356",
        "outputId": "4f1a1416-ff52-4bbc-bb3f-6fa20928bb10"
      },
      "outputs": [
        {
          "data": {
            "text/plain": [
              "[0.0537,\n",
              " 0.0551,\n",
              " 0.0549,\n",
              " 0.0554,\n",
              " 0.0551,\n",
              " 0.0532,\n",
              " 0.05021621050144319,\n",
              " 0.04723242100288638,\n",
              " 0.04517329975442371,\n",
              " 0.04311417850596104,\n",
              " 0.04218657613366415,\n",
              " 0.041258973761367265,\n",
              " 0.04033137138907038,\n",
              " 0.03940376901677349,\n",
              " 0.03913018778464316,\n",
              " 0.03885660655251283,\n",
              " 0.03858302532038249,\n",
              " 0.03830944408825216,\n",
              " 0.038100929896351055,\n",
              " 0.037892415704449955,\n",
              " 0.03768390151254885,\n",
              " 0.03747538732064775,\n",
              " 0.03726687312874664,\n",
              " 0.03705835893684554]"
            ]
          },
          "execution_count": 18,
          "metadata": {},
          "output_type": "execute_result"
        }
      ],
      "source": [
        "# 선형보간법\n",
        "\n",
        "index = [6, 7, 8, 9, 10]\n",
        "\n",
        "for i in index:\n",
        "    t = int(T_i[i])\n",
        "    dt = int(T_i[i]-T_i[i-1])\n",
        "    _t = int(T_i[i-1])\n",
        "    c = c_i[i]\n",
        "\n",
        "    def nonlinear_equation(x):\n",
        "        rv = 0\n",
        "        for j in range(2*t):\n",
        "            if j-2*_t < 0:\n",
        "                rv += c/(1+y_i[j]/2)**(j+1)\n",
        "            else:\n",
        "                rv += c/(1+(y_i[2*_t-1]*(2*t-1-j)+x*(j-2*_t+1))/(2*dt)/2)**(j+1)\n",
        "        rv += 100/(1+x/2)**(2*t)\n",
        "        return 100-rv\n",
        "\n",
        "    x0 = r_i[i]\n",
        "    solution = fsolve(nonlinear_equation, x0)\n",
        "\n",
        "    for k in range(2*dt):\n",
        "        y_i.append((y_i[2*_t-1] * (2*dt-1-k) + solution[0] * (k+1)) / (2*dt))\n",
        "\n",
        "linearinterpol = r_i[:4] + y_i\n",
        "linearinterpol"
      ]
    },
    {
      "cell_type": "code",
      "execution_count": null,
      "id": "988282ae",
      "metadata": {
        "id": "988282ae",
        "outputId": "97d6ecf5-8a5c-40f7-9664-7bf1905ba10c"
      },
      "outputs": [
        {
          "name": "stdout",
          "output_type": "stream",
          "text": [
            "[0.03465578 0.0180424  0.03496851 0.51264993]\n"
          ]
        }
      ],
      "source": [
        "import pandas as pd\n",
        "import numpy as np\n",
        "import matplotlib.pyplot as plt\n",
        "from scipy.optimize import curve_fit\n",
        "\n",
        "# 넬슨 시겔\n",
        "\n",
        "def ns(m, b0, b1, b2, T):\n",
        "    return b0 + (b1+b2)*(1-np.exp(-m/T))/(m/T) - b2*np.exp(-m/T)\n",
        "\n",
        "m=np.array([1/12, 2/12, 3/12, 4/12, 6/12, 1., 2., 3., 5., 7., 10.])\n",
        "r=np.array([5.37, 5.51, 5.49, 5.54, 5.51, 5.32, 4.74, 4.34, 3.98, 3.87, 3.75]) / 100\n",
        "\n",
        "popt, pcov = curve_fit(ns, m, r, p0=[0.03, 0.02, 0.04, 0.05])\n",
        "print(popt)"
      ]
    },
    {
      "cell_type": "code",
      "execution_count": null,
      "id": "0455cd44",
      "metadata": {
        "id": "0455cd44",
        "outputId": "aba79ab2-920f-41ca-c4f6-c9ed603c3a25"
      },
      "outputs": [
        {
          "name": "stderr",
          "output_type": "stream",
          "text": [
            "C:\\Users\\physi\\AppData\\Local\\Temp\\ipykernel_16412\\2056458151.py:7: RuntimeWarning: invalid value encountered in divide\n",
            "  return b0 + (b1+b2)*(1-np.exp(-m/T))/(m/T) - b2*np.exp(-m/T)\n"
          ]
        },
        {
          "data": {
            "image/png": "[encoded data removed]",
            "text/plain": [
              "<Figure size 640x480 with 1 Axes>"
            ]
          },
          "metadata": {},
          "output_type": "display_data"
        }
      ],
      "source": [
        "# 결과 플롯\n",
        "\n",
        "x=np.linspace(0, 10, 100)\n",
        "y=ns(x, *popt)\n",
        "\n",
        "plt.scatter(m, r, color='black', label='real data')\n",
        "\n",
        "plt.plot(x, y,\n",
        "         marker='None',\n",
        "       linestyle='--',\n",
        "       linewidth=1.2,\n",
        "       color='red', label='NS Best Fit')\n",
        "\n",
        "plt.plot(t_i, linearinterpol,\n",
        "         marker='None',\n",
        "       linestyle='--',\n",
        "       linewidth=1.2,\n",
        "       color='blue', label='L.I. Best Fit')\n",
        "\n",
        "plt.ylabel('spot rate', fontsize=9)\n",
        "plt.xlabel('time to mature [year]', fontsize=9)\n",
        "plt.title('spot curve')\n",
        "plt.legend(framealpha=1)\n",
        "plt.show()"
      ]
    },
    {
      "cell_type": "code",
      "execution_count": null,
      "id": "7a7525a4",
      "metadata": {
        "id": "7a7525a4",
        "outputId": "96cd9a06-4ad8-4b8d-e3f3-9b82df8b8397"
      },
      "outputs": [
        {
          "name": "stdout",
          "output_type": "stream",
          "text": [
            "해: [0.04723242]\n",
            "방정식 값: [1.42108547e-14]\n"
          ]
        }
      ],
      "source": [
        "#연습 (이 이후로는 쓸모없는 코드임)\n",
        "\n",
        "import numpy as np\n",
        "from scipy.optimize import fsolve\n",
        "\n",
        "# 푸는 대상 비선형 방정식\n",
        "def nonlinear_equation(x):\n",
        "    return 100-2.37*(1/(1+0.0551/2) + 1/(1+0.0532/2)**2 + 1/(1+(0.0532+x)/4)**3 + (1+100/2.37)/(1+x/2)**4)\n",
        "\n",
        "# 초기 추정값 설정\n",
        "x0 = 0.0474\n",
        "\n",
        "# fsolve 함수를 사용하여 비선형 방정식 풀기\n",
        "solution = fsolve(nonlinear_equation, x0)\n",
        "\n",
        "print(\"해:\", solution)\n",
        "print(\"방정식 값:\", nonlinear_equation(solution))"
      ]
    },
    {
      "cell_type": "code",
      "execution_count": null,
      "id": "41f8f111",
      "metadata": {
        "id": "41f8f111"
      },
      "outputs": [],
      "source": [
        "# 위에서 구한 값은 선형보간법을 이용해서 구한 만기 2년의 spot rate, 나머지도 같은 방법으로 구하면 된다... 확실히 엑셀이 편리하긴 한 듯."
      ]
    }
  ],
  "metadata": {
    "kernelspec": {
      "display_name": "Python 3 (ipykernel)",
      "language": "python",
      "name": "python3"
    },
    "language_info": {
      "codemirror_mode": {
        "name": "ipython",
        "version": 3
      },
      "file_extension": ".py",
      "mimetype": "text/x-python",
      "name": "python",
      "nbconvert_exporter": "python",
      "pygments_lexer": "ipython3",
      "version": "3.9.13"
    },
    "colab": {
      "provenance": [],
      "include_colab_link": true
    }
  },
  "nbformat": 4,
  "nbformat_minor": 5
}